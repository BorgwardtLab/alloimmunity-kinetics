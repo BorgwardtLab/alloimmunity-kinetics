{
 "cells": [
  {
   "cell_type": "code",
   "execution_count": 30,
   "metadata": {},
   "outputs": [],
   "source": [
    "# imports\n",
    "import numpy as np\n",
    "import pandas as pd\n",
    "import seaborn as sns\n",
    "%matplotlib inline\n",
    "import matplotlib.pyplot as plt\n",
    "import datetime\n",
    "import pickle"
   ]
  },
  {
   "cell_type": "code",
   "execution_count": 176,
   "metadata": {},
   "outputs": [],
   "source": [
    "from sklearn.metrics import silhouette_score, calinski_harabaz_score, davies_bouldin_score, silhouette_samples\n",
    "from sklearn.cluster import AgglomerativeClustering, AffinityPropagation, DBSCAN, KMeans, SpectralClustering\n",
    "from sklearn.preprocessing import scale"
   ]
  },
  {
   "cell_type": "code",
   "execution_count": 90,
   "metadata": {},
   "outputs": [],
   "source": [
    "def evaluate_clustering(X, cluster_labels):\n",
    "    s = silhouette_score(X, cluster_labels)\n",
    "    c = calinski_harabaz_score(X, cluster_labels)\n",
    "    d = davies_bouldin_score(X, cluster_labels)\n",
    "    print(\"Clustering results:\")\n",
    "    print(f\"\\tSilhouette Score: \\t{s:.2f}\")\n",
    "    print(f\"\\tCalinski Harabaz Score: {c:.2f}\")\n",
    "    print(f\"\\tDavies Bouldin Score: \\t{d:.2f}\")\n",
    "    return s,c,d\n",
    "\n",
    "# Ignore the DivideByZero warnings\n",
    "import warnings\n",
    "warnings.filterwarnings('ignore')"
   ]
  },
  {
   "cell_type": "code",
   "execution_count": 188,
   "metadata": {},
   "outputs": [],
   "source": [
    "# Plot the silhouette scores\n",
    "import matplotlib.cm as cm\n",
    "\n",
    "def plot_silhouette(X, labels):\n",
    "    # Plot the silhouette scores \n",
    "    fig, ax1 = plt.subplots(1, 1, figsize=(8,6))\n",
    "    # Compute the silhouette scores for each sample\n",
    "    sample_silhouette_values = silhouette_samples(X, labels)\n",
    "\n",
    "    y_lower = 10\n",
    "    n_clusters = len(np.unique(labels))\n",
    "    for i in range(n_clusters):\n",
    "        # Aggregate the silhouette scores for samples belonging to\n",
    "        # cluster i, and sort them\n",
    "        ith_cluster_silhouette_values = \\\n",
    "            sample_silhouette_values[labels == i]\n",
    "\n",
    "        ith_cluster_silhouette_values.sort()\n",
    "\n",
    "        size_cluster_i = ith_cluster_silhouette_values.shape[0]\n",
    "        y_upper = y_lower + size_cluster_i\n",
    "\n",
    "        color = cm.nipy_spectral(float(i) / n_clusters)\n",
    "        ax1.fill_betweenx(np.arange(y_lower, y_upper),\n",
    "                          0, ith_cluster_silhouette_values,\n",
    "                          facecolor=color, edgecolor=color, alpha=0.7)\n",
    "\n",
    "        # Label the silhouette plots with their cluster numbers at the middle\n",
    "        ax1.text(-0.05, y_lower + 0.5 * size_cluster_i, str(i))\n",
    "\n",
    "        # Compute the new y_lower for next plot\n",
    "        y_lower = y_upper + 10  # 10 for the 0 samples\n",
    "    ax1.set_title(\"The silhouette plot for the various clusters.\")\n",
    "    ax1.set_xlabel(\"The silhouette coefficient values\")\n",
    "    ax1.set_ylabel(\"Cluster label\")\n",
    "\n",
    "    # The vertical line for average silhouette score of all the values\n",
    "    ax1.axvline(x=silhouette_score(X, labels), color=\"red\", linestyle=\"--\")\n",
    "\n",
    "    ax1.set_yticks([])  # Clear the yaxis labels / ticks\n",
    "    ax1.set_xticks([-0.1, 0, 0.2, 0.4, 0.6, 0.8, 1])"
   ]
  },
  {
   "cell_type": "markdown",
   "metadata": {},
   "source": [
    "# Handcrafted features"
   ]
  },
  {
   "cell_type": "code",
   "execution_count": 122,
   "metadata": {},
   "outputs": [],
   "source": [
    "# Handcrafted_features\n",
    "X = np.load('data/timeseries/class_1/handrafted_features.npy')\n",
    "var_names = np.loadtxt('data/timeseries/class_1/handrafted_features_varnames.txt', dtype=str)\n",
    "pat_names = np.loadtxt('data/timeseries/class_1/handrafted_features_patnames.txt', dtype=str)\n",
    "\n",
    "# Remove the time component\n",
    "X_notime = scale(X[:,:-2])\n",
    "\n",
    "# Load patient_properties\n",
    "with open('data/patient_properties.p', 'rb') as handle:\n",
    "    patient_properties = pickle.load(handle)\n",
    "\n",
    "# Get the original labels\n",
    "c_gender = []\n",
    "c_age = []\n",
    "c_immunized = []\n",
    "c_pregnant = []\n",
    "c_transfused = []\n",
    "for patid in pat_names:\n",
    "    c_gender.append(patient_properties[patid]['gender'])\n",
    "    c_age.append(patient_properties[patid]['yob'])\n",
    "    c_immunized.append(patient_properties[patid]['immunized'])\n",
    "    c_pregnant.append(patient_properties[patid]['pregnant'])\n",
    "    c_transfused.append(patient_properties[patid]['transfused'])"
   ]
  },
  {
   "cell_type": "code",
   "execution_count": 49,
   "metadata": {},
   "outputs": [],
   "source": [
    "# Featur selection\n",
    "from feat_sel import spec\n",
    "def get_top_N_features(X, n, feat_name=False):\n",
    "    # Compute the SPEC score\n",
    "    specscore = spec(X)\n",
    "    idx = np.argsort(specscore)[-n:]\n",
    "    if feat_name:\n",
    "        return X[:,idx], var_names[idx]\n",
    "    else:\n",
    "        return X[:,idx]"
   ]
  },
  {
   "cell_type": "markdown",
   "metadata": {},
   "source": [
    "### Evaluation of multiple clustering algorithm on full dataset"
   ]
  },
  {
   "cell_type": "code",
   "execution_count": 123,
   "metadata": {
    "scrolled": true
   },
   "outputs": [
    {
     "name": "stdout",
     "output_type": "stream",
     "text": [
      "2 Clusters\n",
      "Clustering results:\n",
      "\tSilhouette Score: \t0.79\n",
      "\tCalinski Harabaz Score: 72.96\n",
      "\tDavies Bouldin Score: \t1.71\n",
      "\n",
      "3 Clusters\n",
      "Clustering results:\n",
      "\tSilhouette Score: \t0.78\n",
      "\tCalinski Harabaz Score: 60.82\n",
      "\tDavies Bouldin Score: \t1.33\n",
      "\n",
      "4 Clusters\n",
      "Clustering results:\n",
      "\tSilhouette Score: \t0.71\n",
      "\tCalinski Harabaz Score: 60.38\n",
      "\tDavies Bouldin Score: \t1.49\n",
      "\n",
      "5 Clusters\n",
      "Clustering results:\n",
      "\tSilhouette Score: \t0.75\n",
      "\tCalinski Harabaz Score: 60.56\n",
      "\tDavies Bouldin Score: \t0.91\n",
      "\n",
      "6 Clusters\n",
      "Clustering results:\n",
      "\tSilhouette Score: \t0.72\n",
      "\tCalinski Harabaz Score: 64.71\n",
      "\tDavies Bouldin Score: \t0.88\n",
      "\n",
      "7 Clusters\n",
      "Clustering results:\n",
      "\tSilhouette Score: \t0.72\n",
      "\tCalinski Harabaz Score: 62.05\n",
      "\tDavies Bouldin Score: \t0.64\n",
      "\n",
      "8 Clusters\n",
      "Clustering results:\n",
      "\tSilhouette Score: \t0.71\n",
      "\tCalinski Harabaz Score: 69.21\n",
      "\tDavies Bouldin Score: \t0.65\n",
      "\n",
      "9 Clusters\n",
      "Clustering results:\n",
      "\tSilhouette Score: \t0.73\n",
      "\tCalinski Harabaz Score: 72.03\n",
      "\tDavies Bouldin Score: \t0.58\n",
      "\n",
      "10 Clusters\n",
      "Clustering results:\n",
      "\tSilhouette Score: \t0.72\n",
      "\tCalinski Harabaz Score: 73.35\n",
      "\tDavies Bouldin Score: \t0.58\n",
      "\n"
     ]
    }
   ],
   "source": [
    "####################\n",
    "# KMeans\n",
    "####################\n",
    "\n",
    "# Play with n_clusters\n",
    "for i in range(2,11):\n",
    "    print(f\"{i} Clusters\")\n",
    "    clust= KMeans(n_clusters=i).fit(X_notime)\n",
    "    evaluate_clustering(X_notime, clust.labels_)\n",
    "    print()"
   ]
  },
  {
   "cell_type": "markdown",
   "metadata": {},
   "source": [
    "N_clusters = 2 seems to be the best choice for KMeans. The clustering performance degrades starting from 7 clusters. Let's evaluate the effect of feature selection."
   ]
  },
  {
   "cell_type": "code",
   "execution_count": 172,
   "metadata": {
    "scrolled": true
   },
   "outputs": [
    {
     "name": "stdout",
     "output_type": "stream",
     "text": [
      "10 Selected features\n",
      "2 Clusters\n",
      "Clustering results:\n",
      "\tSilhouette Score: \t0.79\n",
      "\tCalinski Harabaz Score: 254.57\n",
      "\tDavies Bouldin Score: \t1.09\n",
      "\n",
      "3 Clusters\n",
      "Clustering results:\n",
      "\tSilhouette Score: \t0.76\n",
      "\tCalinski Harabaz Score: 209.51\n",
      "\tDavies Bouldin Score: \t1.27\n",
      "\n",
      "4 Clusters\n",
      "Clustering results:\n",
      "\tSilhouette Score: \t0.71\n",
      "\tCalinski Harabaz Score: 170.81\n",
      "\tDavies Bouldin Score: \t1.18\n",
      "\n",
      "5 Clusters\n",
      "Clustering results:\n",
      "\tSilhouette Score: \t0.72\n",
      "\tCalinski Harabaz Score: 152.53\n",
      "\tDavies Bouldin Score: \t0.95\n",
      "\n",
      "\n",
      "20 Selected features\n",
      "2 Clusters\n",
      "Clustering results:\n",
      "\tSilhouette Score: \t0.76\n",
      "\tCalinski Harabaz Score: 209.99\n",
      "\tDavies Bouldin Score: \t1.20\n",
      "\n",
      "3 Clusters\n",
      "Clustering results:\n",
      "\tSilhouette Score: \t0.73\n",
      "\tCalinski Harabaz Score: 162.65\n",
      "\tDavies Bouldin Score: \t1.38\n",
      "\n",
      "4 Clusters\n",
      "Clustering results:\n",
      "\tSilhouette Score: \t0.73\n",
      "\tCalinski Harabaz Score: 135.61\n",
      "\tDavies Bouldin Score: \t1.48\n",
      "\n",
      "5 Clusters\n",
      "Clustering results:\n",
      "\tSilhouette Score: \t0.70\n",
      "\tCalinski Harabaz Score: 117.13\n",
      "\tDavies Bouldin Score: \t1.47\n",
      "\n",
      "\n",
      "50 Selected features\n",
      "2 Clusters\n",
      "Clustering results:\n",
      "\tSilhouette Score: \t0.75\n",
      "\tCalinski Harabaz Score: 156.24\n",
      "\tDavies Bouldin Score: \t1.35\n",
      "\n",
      "3 Clusters\n",
      "Clustering results:\n",
      "\tSilhouette Score: \t0.72\n",
      "\tCalinski Harabaz Score: 104.03\n",
      "\tDavies Bouldin Score: \t1.81\n",
      "\n",
      "4 Clusters\n",
      "Clustering results:\n",
      "\tSilhouette Score: \t0.73\n",
      "\tCalinski Harabaz Score: 85.26\n",
      "\tDavies Bouldin Score: \t1.60\n",
      "\n",
      "5 Clusters\n",
      "Clustering results:\n",
      "\tSilhouette Score: \t0.61\n",
      "\tCalinski Harabaz Score: 74.99\n",
      "\tDavies Bouldin Score: \t1.80\n",
      "\n",
      "\n",
      "100 Selected features\n",
      "2 Clusters\n",
      "Clustering results:\n",
      "\tSilhouette Score: \t0.74\n",
      "\tCalinski Harabaz Score: 126.46\n",
      "\tDavies Bouldin Score: \t1.46\n",
      "\n",
      "3 Clusters\n",
      "Clustering results:\n",
      "\tSilhouette Score: \t0.74\n",
      "\tCalinski Harabaz Score: 86.90\n",
      "\tDavies Bouldin Score: \t1.86\n",
      "\n",
      "4 Clusters\n",
      "Clustering results:\n",
      "\tSilhouette Score: \t0.72\n",
      "\tCalinski Harabaz Score: 72.02\n",
      "\tDavies Bouldin Score: \t1.46\n",
      "\n",
      "5 Clusters\n",
      "Clustering results:\n",
      "\tSilhouette Score: \t0.63\n",
      "\tCalinski Harabaz Score: 62.85\n",
      "\tDavies Bouldin Score: \t2.23\n",
      "\n",
      "\n",
      "200 Selected features\n",
      "2 Clusters\n",
      "Clustering results:\n",
      "\tSilhouette Score: \t0.75\n",
      "\tCalinski Harabaz Score: 92.18\n",
      "\tDavies Bouldin Score: \t1.69\n",
      "\n",
      "3 Clusters\n",
      "Clustering results:\n",
      "\tSilhouette Score: \t0.74\n",
      "\tCalinski Harabaz Score: 69.51\n",
      "\tDavies Bouldin Score: \t1.51\n",
      "\n",
      "4 Clusters\n",
      "Clustering results:\n",
      "\tSilhouette Score: \t0.75\n",
      "\tCalinski Harabaz Score: 58.48\n",
      "\tDavies Bouldin Score: \t0.92\n",
      "\n",
      "5 Clusters\n",
      "Clustering results:\n",
      "\tSilhouette Score: \t0.72\n",
      "\tCalinski Harabaz Score: 54.60\n",
      "\tDavies Bouldin Score: \t1.38\n",
      "\n",
      "\n"
     ]
    }
   ],
   "source": [
    "# Play with n_feat\n",
    "\n",
    "for n in [10, 20, 50, 100, 200]:\n",
    "    print(f\"{n} Selected features\")\n",
    "    X_n = get_top_N_features(X_notime, n)\n",
    "    for i in range(2,6):\n",
    "        print(f\"{i} Clusters\")\n",
    "        clust= KMeans(n_clusters=i).fit(X_n)\n",
    "        evaluate_clustering(X_n, clust.labels_)\n",
    "        print()\n",
    "    print()"
   ]
  },
  {
   "cell_type": "markdown",
   "metadata": {},
   "source": [
    "Selecting features doesn't seem to improve the clustering ability. Best silhouette coefficient: 2 clusters and 10 features."
   ]
  },
  {
   "cell_type": "code",
   "execution_count": 198,
   "metadata": {},
   "outputs": [
    {
     "data": {
      "image/png": "[encoded data removed]",
      "text/plain": [
       "<matplotlib.figure.Figure at 0x122592f60>"
      ]
     },
     "metadata": {},
     "output_type": "display_data"
    }
   ],
   "source": [
    "X_n = get_top_N_features(X_notime, 10)\n",
    "plot_silhouette(X_n, KMeans(n_clusters=3).fit(X_n).labels_)"
   ]
  },
  {
   "cell_type": "markdown",
   "metadata": {},
   "source": [
    "## DBSCAN"
   ]
  },
  {
   "cell_type": "code",
   "execution_count": 164,
   "metadata": {},
   "outputs": [
    {
     "name": "stdout",
     "output_type": "stream",
     "text": [
      "Eps: 0.1\n",
      "Clustering results:\n",
      "\tSilhouette Score: \t-0.41\n",
      "\tCalinski Harabaz Score: 2.24\n",
      "\tDavies Bouldin Score: \t2.84\n",
      "\n",
      "Eps: 0.15\n",
      "Clustering results:\n",
      "\tSilhouette Score: \t-0.38\n",
      "\tCalinski Harabaz Score: 2.56\n",
      "\tDavies Bouldin Score: \t2.84\n",
      "\n",
      "Eps: 0.2\n",
      "Clustering results:\n",
      "\tSilhouette Score: \t-0.35\n",
      "\tCalinski Harabaz Score: 2.89\n",
      "\tDavies Bouldin Score: \t2.84\n",
      "\n",
      "Eps: 0.5\n",
      "Clustering results:\n",
      "\tSilhouette Score: \t-0.16\n",
      "\tCalinski Harabaz Score: 5.57\n",
      "\tDavies Bouldin Score: \t2.81\n",
      "\n",
      "Eps: 50\n",
      "Clustering results:\n",
      "\tSilhouette Score: \t0.85\n",
      "\tCalinski Harabaz Score: 60.80\n",
      "\tDavies Bouldin Score: \t2.03\n",
      "\n"
     ]
    }
   ],
   "source": [
    "####################\n",
    "# DBSCAN\n",
    "####################\n",
    "# As a note, silhouette coeff and other metrics are not optimal for density based clustering methods.\n",
    "\n",
    "# Play with n_clusters\n",
    "for i in [0.1,0.15,0.2,0.5, 50]:\n",
    "    print(f\"Eps: {i}\")\n",
    "    clust = DBSCAN(eps=i, min_samples=8).fit(X_notime)\n",
    "    evaluate_clustering(X_notime, clust.labels_)\n",
    "    print()"
   ]
  },
  {
   "cell_type": "markdown",
   "metadata": {},
   "source": [
    "There's an evident mistake here as an eps of 80 pulls together most of the points (407) into one cluster and leaves the noise out."
   ]
  },
  {
   "cell_type": "code",
   "execution_count": 170,
   "metadata": {
    "scrolled": true
   },
   "outputs": [
    {
     "name": "stdout",
     "output_type": "stream",
     "text": [
      "10 Selected features\n",
      "Eps: 0.2\n",
      "Clustering results:\n",
      "\tSilhouette Score: \t0.27\n",
      "\tCalinski Harabaz Score: 11.39\n",
      "\tDavies Bouldin Score: \t1.75\n",
      "\n",
      "Eps: 0.5\n",
      "Clustering results:\n",
      "\tSilhouette Score: \t0.57\n",
      "\tCalinski Harabaz Score: 101.81\n",
      "\tDavies Bouldin Score: \t1.64\n",
      "\n",
      "\n",
      "20 Selected features\n",
      "Eps: 0.2\n",
      "Clustering results:\n",
      "\tSilhouette Score: \t0.04\n",
      "\tCalinski Harabaz Score: 9.27\n",
      "\tDavies Bouldin Score: \t1.97\n",
      "\n",
      "Eps: 0.5\n",
      "Clustering results:\n",
      "\tSilhouette Score: \t0.18\n",
      "\tCalinski Harabaz Score: 27.66\n",
      "\tDavies Bouldin Score: \t1.86\n",
      "\n",
      "\n",
      "50 Selected features\n",
      "Eps: 0.2\n",
      "Clustering results:\n",
      "\tSilhouette Score: \t-0.21\n",
      "\tCalinski Harabaz Score: 8.88\n",
      "\tDavies Bouldin Score: \t2.30\n",
      "\n",
      "Eps: 0.5\n",
      "Clustering results:\n",
      "\tSilhouette Score: \t-0.11\n",
      "\tCalinski Harabaz Score: 6.29\n",
      "\tDavies Bouldin Score: \t2.25\n",
      "\n",
      "\n",
      "100 Selected features\n",
      "Eps: 0.2\n",
      "Clustering results:\n",
      "\tSilhouette Score: \t-0.27\n",
      "\tCalinski Harabaz Score: 6.38\n",
      "\tDavies Bouldin Score: \t2.43\n",
      "\n",
      "Eps: 0.5\n",
      "Clustering results:\n",
      "\tSilhouette Score: \t-0.09\n",
      "\tCalinski Harabaz Score: 11.68\n",
      "\tDavies Bouldin Score: \t2.43\n",
      "\n",
      "\n",
      "200 Selected features\n",
      "Eps: 0.2\n",
      "Clustering results:\n",
      "\tSilhouette Score: \t-0.33\n",
      "\tCalinski Harabaz Score: 4.04\n",
      "\tDavies Bouldin Score: \t2.66\n",
      "\n",
      "Eps: 0.5\n",
      "Clustering results:\n",
      "\tSilhouette Score: \t-0.13\n",
      "\tCalinski Harabaz Score: 7.79\n",
      "\tDavies Bouldin Score: \t2.64\n",
      "\n",
      "\n"
     ]
    }
   ],
   "source": [
    "# Play with n_clusters\n",
    "for n in [10, 20, 50, 100, 200]:\n",
    "    print(f\"{n} Selected features\")\n",
    "    X_n = get_top_N_features(X_notime, n)\n",
    "    for i in [0.2,0.5]:\n",
    "        print(f\"Eps: {i}\")\n",
    "        clust = DBSCAN(eps=i, min_samples=4).fit(X_n)\n",
    "        evaluate_clustering(X_n, clust.labels_)\n",
    "        print()\n",
    "    print()"
   ]
  },
  {
   "cell_type": "code",
   "execution_count": 169,
   "metadata": {},
   "outputs": [
    {
     "data": {
      "text/plain": [
       "(array([-1,  0]), array([114, 324]))"
      ]
     },
     "execution_count": 169,
     "metadata": {},
     "output_type": "execute_result"
    }
   ],
   "source": [
    "from sklearn.preprocessing import scale\n",
    "X_n = get_top_N_features(X_notime, 10)\n",
    "clust = DBSCAN(eps=0.5, min_samples=4).fit(X_n)\n",
    "np.unique(clust.labels_, return_counts=True)"
   ]
  },
  {
   "cell_type": "markdown",
   "metadata": {},
   "source": [
    "The unexpectedly high value for eps 0.5 and n 10 is due to the same effect as above. DBSCAN is not a good solution."
   ]
  },
  {
   "cell_type": "code",
   "execution_count": 272,
   "metadata": {},
   "outputs": [
    {
     "data": {
      "image/png": "[encoded data removed]",
      "text/plain": [
       "<matplotlib.figure.Figure at 0x122591860>"
      ]
     },
     "metadata": {},
     "output_type": "display_data"
    }
   ],
   "source": [
    "X_n = get_top_N_features(X_notime, 10)\n",
    "plot_silhouette(X_n, DBSCAN(eps=0.2, min_samples=4).fit(X_n).labels_)"
   ]
  },
  {
   "cell_type": "markdown",
   "metadata": {},
   "source": [
    "The low average silhouette score is due to the noise points"
   ]
  },
  {
   "cell_type": "markdown",
   "metadata": {},
   "source": [
    "## Hierarchical clustering"
   ]
  },
  {
   "cell_type": "code",
   "execution_count": 173,
   "metadata": {
    "scrolled": true
   },
   "outputs": [
    {
     "name": "stdout",
     "output_type": "stream",
     "text": [
      "2 Clusters\n",
      "Clustering results:\n",
      "\tSilhouette Score: \t0.87\n",
      "\tCalinski Harabaz Score: 69.92\n",
      "\tDavies Bouldin Score: \t1.39\n",
      "\n",
      "3 Clusters\n",
      "Clustering results:\n",
      "\tSilhouette Score: \t0.86\n",
      "\tCalinski Harabaz Score: 60.78\n",
      "\tDavies Bouldin Score: \t0.99\n",
      "\n",
      "4 Clusters\n",
      "Clustering results:\n",
      "\tSilhouette Score: \t0.65\n",
      "\tCalinski Harabaz Score: 60.10\n",
      "\tDavies Bouldin Score: \t1.68\n",
      "\n",
      "5 Clusters\n",
      "Clustering results:\n",
      "\tSilhouette Score: \t0.64\n",
      "\tCalinski Harabaz Score: 61.94\n",
      "\tDavies Bouldin Score: \t1.44\n",
      "\n",
      "6 Clusters\n",
      "Clustering results:\n",
      "\tSilhouette Score: \t0.65\n",
      "\tCalinski Harabaz Score: 63.81\n",
      "\tDavies Bouldin Score: \t1.29\n",
      "\n",
      "7 Clusters\n",
      "Clustering results:\n",
      "\tSilhouette Score: \t0.65\n",
      "\tCalinski Harabaz Score: 65.41\n",
      "\tDavies Bouldin Score: \t1.02\n",
      "\n",
      "8 Clusters\n",
      "Clustering results:\n",
      "\tSilhouette Score: \t0.64\n",
      "\tCalinski Harabaz Score: 67.22\n",
      "\tDavies Bouldin Score: \t1.03\n",
      "\n",
      "9 Clusters\n",
      "Clustering results:\n",
      "\tSilhouette Score: \t0.64\n",
      "\tCalinski Harabaz Score: 69.18\n",
      "\tDavies Bouldin Score: \t1.14\n",
      "\n",
      "10 Clusters\n",
      "Clustering results:\n",
      "\tSilhouette Score: \t0.64\n",
      "\tCalinski Harabaz Score: 70.90\n",
      "\tDavies Bouldin Score: \t1.00\n",
      "\n"
     ]
    }
   ],
   "source": [
    "####################\n",
    "# Agglomerative Clustering\n",
    "####################\n",
    "# As a note, silhouette coeff and other metrics are not optimal for density based clustering methods.\n",
    "\n",
    "# Play with n_clusters\n",
    "for i in range(2,11):\n",
    "    print(f\"{i} Clusters\")\n",
    "    clust= AgglomerativeClustering(n_clusters=i).fit(X_notime)\n",
    "    evaluate_clustering(X_notime, clust.labels_)\n",
    "    print()"
   ]
  },
  {
   "cell_type": "code",
   "execution_count": 174,
   "metadata": {},
   "outputs": [
    {
     "name": "stdout",
     "output_type": "stream",
     "text": [
      "10 Selected features\n",
      "2 Clusters\n",
      "Clustering results:\n",
      "\tSilhouette Score: \t0.78\n",
      "\tCalinski Harabaz Score: 204.93\n",
      "\tDavies Bouldin Score: \t1.16\n",
      "\n",
      "3 Clusters\n",
      "Clustering results:\n",
      "\tSilhouette Score: \t0.77\n",
      "\tCalinski Harabaz Score: 176.81\n",
      "\tDavies Bouldin Score: \t1.15\n",
      "\n",
      "4 Clusters\n",
      "Clustering results:\n",
      "\tSilhouette Score: \t0.71\n",
      "\tCalinski Harabaz Score: 155.51\n",
      "\tDavies Bouldin Score: \t1.14\n",
      "\n",
      "5 Clusters\n",
      "Clustering results:\n",
      "\tSilhouette Score: \t0.71\n",
      "\tCalinski Harabaz Score: 140.68\n",
      "\tDavies Bouldin Score: \t0.95\n",
      "\n",
      "\n",
      "20 Selected features\n",
      "2 Clusters\n",
      "Clustering results:\n",
      "\tSilhouette Score: \t0.75\n",
      "\tCalinski Harabaz Score: 202.47\n",
      "\tDavies Bouldin Score: \t1.24\n",
      "\n",
      "3 Clusters\n",
      "Clustering results:\n",
      "\tSilhouette Score: \t0.74\n",
      "\tCalinski Harabaz Score: 160.60\n",
      "\tDavies Bouldin Score: \t1.37\n",
      "\n",
      "4 Clusters\n",
      "Clustering results:\n",
      "\tSilhouette Score: \t0.74\n",
      "\tCalinski Harabaz Score: 131.62\n",
      "\tDavies Bouldin Score: \t1.33\n",
      "\n",
      "5 Clusters\n",
      "Clustering results:\n",
      "\tSilhouette Score: \t0.72\n",
      "\tCalinski Harabaz Score: 111.88\n",
      "\tDavies Bouldin Score: \t1.55\n",
      "\n",
      "\n",
      "50 Selected features\n",
      "2 Clusters\n",
      "Clustering results:\n",
      "\tSilhouette Score: \t0.66\n",
      "\tCalinski Harabaz Score: 114.04\n",
      "\tDavies Bouldin Score: \t1.76\n",
      "\n",
      "3 Clusters\n",
      "Clustering results:\n",
      "\tSilhouette Score: \t0.64\n",
      "\tCalinski Harabaz Score: 91.46\n",
      "\tDavies Bouldin Score: \t2.05\n",
      "\n",
      "4 Clusters\n",
      "Clustering results:\n",
      "\tSilhouette Score: \t0.62\n",
      "\tCalinski Harabaz Score: 77.04\n",
      "\tDavies Bouldin Score: \t2.20\n",
      "\n",
      "5 Clusters\n",
      "Clustering results:\n",
      "\tSilhouette Score: \t0.62\n",
      "\tCalinski Harabaz Score: 71.56\n",
      "\tDavies Bouldin Score: \t1.97\n",
      "\n",
      "\n",
      "100 Selected features\n",
      "2 Clusters\n",
      "Clustering results:\n",
      "\tSilhouette Score: \t0.74\n",
      "\tCalinski Harabaz Score: 111.89\n",
      "\tDavies Bouldin Score: \t1.57\n",
      "\n",
      "3 Clusters\n",
      "Clustering results:\n",
      "\tSilhouette Score: \t0.72\n",
      "\tCalinski Harabaz Score: 82.94\n",
      "\tDavies Bouldin Score: \t1.86\n",
      "\n",
      "4 Clusters\n",
      "Clustering results:\n",
      "\tSilhouette Score: \t0.59\n",
      "\tCalinski Harabaz Score: 69.51\n",
      "\tDavies Bouldin Score: \t2.22\n",
      "\n",
      "5 Clusters\n",
      "Clustering results:\n",
      "\tSilhouette Score: \t0.59\n",
      "\tCalinski Harabaz Score: 63.75\n",
      "\tDavies Bouldin Score: \t1.84\n",
      "\n",
      "\n",
      "200 Selected features\n",
      "2 Clusters\n",
      "Clustering results:\n",
      "\tSilhouette Score: \t0.73\n",
      "\tCalinski Harabaz Score: 81.92\n",
      "\tDavies Bouldin Score: \t1.92\n",
      "\n",
      "3 Clusters\n",
      "Clustering results:\n",
      "\tSilhouette Score: \t0.73\n",
      "\tCalinski Harabaz Score: 65.28\n",
      "\tDavies Bouldin Score: \t1.70\n",
      "\n",
      "4 Clusters\n",
      "Clustering results:\n",
      "\tSilhouette Score: \t0.72\n",
      "\tCalinski Harabaz Score: 57.63\n",
      "\tDavies Bouldin Score: \t1.60\n",
      "\n",
      "5 Clusters\n",
      "Clustering results:\n",
      "\tSilhouette Score: \t0.72\n",
      "\tCalinski Harabaz Score: 53.63\n",
      "\tDavies Bouldin Score: \t1.23\n",
      "\n",
      "\n"
     ]
    }
   ],
   "source": [
    "# Play with n_feat\n",
    "\n",
    "for n in [10, 20, 50, 100, 200]:\n",
    "    print(f\"{n} Selected features\")\n",
    "    X_n = get_top_N_features(X_notime, n)\n",
    "    for i in range(2,6):\n",
    "        print(f\"{i} Clusters\")\n",
    "        clust= AgglomerativeClustering(n_clusters=i).fit(X_n)\n",
    "        evaluate_clustering(X_n, clust.labels_)\n",
    "        print()\n",
    "    print()"
   ]
  },
  {
   "cell_type": "markdown",
   "metadata": {},
   "source": [
    "Hierarchical clustering with 3 clusters seems to be quite strong."
   ]
  },
  {
   "cell_type": "code",
   "execution_count": 214,
   "metadata": {},
   "outputs": [
    {
     "data": {
      "image/png": "[encoded data removed]",
      "text/plain": [
       "<matplotlib.figure.Figure at 0x122408eb8>"
      ]
     },
     "metadata": {},
     "output_type": "display_data"
    }
   ],
   "source": [
    "X_n = get_top_N_features(X_notime, 10)\n",
    "plot_silhouette(X_n, AgglomerativeClustering(n_clusters=3).fit(X_n).labels_)"
   ]
  },
  {
   "cell_type": "markdown",
   "metadata": {},
   "source": [
    "## Spectral Clustering"
   ]
  },
  {
   "cell_type": "code",
   "execution_count": 216,
   "metadata": {
    "scrolled": true
   },
   "outputs": [
    {
     "name": "stdout",
     "output_type": "stream",
     "text": [
      "2 Clusters\n",
      "Clustering results:\n",
      "\tSilhouette Score: \t0.62\n",
      "\tCalinski Harabaz Score: 3.08\n",
      "\tDavies Bouldin Score: \t0.30\n",
      "\n",
      "3 Clusters\n",
      "Clustering results:\n",
      "\tSilhouette Score: \t0.59\n",
      "\tCalinski Harabaz Score: 2.89\n",
      "\tDavies Bouldin Score: \t0.31\n",
      "\n",
      "4 Clusters\n",
      "Clustering results:\n",
      "\tSilhouette Score: \t0.60\n",
      "\tCalinski Harabaz Score: 5.20\n",
      "\tDavies Bouldin Score: \t0.43\n",
      "\n",
      "5 Clusters\n",
      "Clustering results:\n",
      "\tSilhouette Score: \t0.59\n",
      "\tCalinski Harabaz Score: 4.15\n",
      "\tDavies Bouldin Score: \t0.28\n",
      "\n",
      "6 Clusters\n",
      "Clustering results:\n",
      "\tSilhouette Score: \t0.60\n",
      "\tCalinski Harabaz Score: 5.20\n",
      "\tDavies Bouldin Score: \t0.43\n",
      "\n",
      "7 Clusters\n",
      "Clustering results:\n",
      "\tSilhouette Score: \t0.59\n",
      "\tCalinski Harabaz Score: 4.15\n",
      "\tDavies Bouldin Score: \t0.28\n",
      "\n",
      "8 Clusters\n",
      "Clustering results:\n",
      "\tSilhouette Score: \t0.59\n",
      "\tCalinski Harabaz Score: 4.15\n",
      "\tDavies Bouldin Score: \t0.28\n",
      "\n",
      "9 Clusters\n",
      "Clustering results:\n",
      "\tSilhouette Score: \t0.59\n",
      "\tCalinski Harabaz Score: 4.15\n",
      "\tDavies Bouldin Score: \t0.28\n",
      "\n",
      "10 Clusters\n",
      "Clustering results:\n",
      "\tSilhouette Score: \t0.59\n",
      "\tCalinski Harabaz Score: 4.15\n",
      "\tDavies Bouldin Score: \t0.28\n",
      "\n"
     ]
    }
   ],
   "source": [
    "####################\n",
    "# Spectral Clustering\n",
    "####################\n",
    "# As a note, silhouette coeff and other metrics are not optimal for density based clustering methods.\n",
    "\n",
    "# Play with n_clusters\n",
    "for i in range(2,11):\n",
    "    print(f\"{i} Clusters\")\n",
    "    clust= SpectralClustering(n_clusters=i).fit(X_notime)\n",
    "    evaluate_clustering(X_notime, clust.labels_)\n",
    "    print()"
   ]
  },
  {
   "cell_type": "code",
   "execution_count": 217,
   "metadata": {
    "scrolled": true
   },
   "outputs": [
    {
     "name": "stdout",
     "output_type": "stream",
     "text": [
      "10 Selected features\n",
      "2 Clusters\n",
      "Clustering results:\n",
      "\tSilhouette Score: \t0.85\n",
      "\tCalinski Harabaz Score: 35.57\n",
      "\tDavies Bouldin Score: \t0.10\n",
      "\n",
      "3 Clusters\n",
      "Clustering results:\n",
      "\tSilhouette Score: \t0.77\n",
      "\tCalinski Harabaz Score: 44.42\n",
      "\tDavies Bouldin Score: \t0.49\n",
      "\n",
      "4 Clusters\n",
      "Clustering results:\n",
      "\tSilhouette Score: \t0.73\n",
      "\tCalinski Harabaz Score: 40.15\n",
      "\tDavies Bouldin Score: \t0.65\n",
      "\n",
      "5 Clusters\n",
      "Clustering results:\n",
      "\tSilhouette Score: \t0.78\n",
      "\tCalinski Harabaz Score: 25.53\n",
      "\tDavies Bouldin Score: \t0.13\n",
      "\n",
      "\n",
      "20 Selected features\n",
      "2 Clusters\n",
      "Clustering results:\n",
      "\tSilhouette Score: \t0.85\n",
      "\tCalinski Harabaz Score: 40.31\n",
      "\tDavies Bouldin Score: \t0.10\n",
      "\n",
      "3 Clusters\n",
      "Clustering results:\n",
      "\tSilhouette Score: \t0.85\n",
      "\tCalinski Harabaz Score: 40.31\n",
      "\tDavies Bouldin Score: \t0.10\n",
      "\n",
      "4 Clusters\n",
      "Clustering results:\n",
      "\tSilhouette Score: \t0.84\n",
      "\tCalinski Harabaz Score: 40.56\n",
      "\tDavies Bouldin Score: \t0.10\n",
      "\n",
      "5 Clusters\n",
      "Clustering results:\n",
      "\tSilhouette Score: \t0.85\n",
      "\tCalinski Harabaz Score: 40.31\n",
      "\tDavies Bouldin Score: \t0.10\n",
      "\n",
      "\n",
      "50 Selected features\n",
      "2 Clusters\n",
      "Clustering results:\n",
      "\tSilhouette Score: \t0.78\n",
      "\tCalinski Harabaz Score: 17.55\n",
      "\tDavies Bouldin Score: \t0.15\n",
      "\n",
      "3 Clusters\n",
      "Clustering results:\n",
      "\tSilhouette Score: \t0.78\n",
      "\tCalinski Harabaz Score: 17.55\n",
      "\tDavies Bouldin Score: \t0.15\n",
      "\n",
      "4 Clusters\n",
      "Clustering results:\n",
      "\tSilhouette Score: \t0.78\n",
      "\tCalinski Harabaz Score: 17.55\n",
      "\tDavies Bouldin Score: \t0.15\n",
      "\n",
      "5 Clusters\n",
      "Clustering results:\n",
      "\tSilhouette Score: \t0.78\n",
      "\tCalinski Harabaz Score: 17.55\n",
      "\tDavies Bouldin Score: \t0.15\n",
      "\n",
      "\n",
      "100 Selected features\n",
      "2 Clusters\n",
      "Clustering results:\n",
      "\tSilhouette Score: \t0.74\n",
      "\tCalinski Harabaz Score: 12.46\n",
      "\tDavies Bouldin Score: \t0.18\n",
      "\n",
      "3 Clusters\n",
      "Clustering results:\n",
      "\tSilhouette Score: \t0.74\n",
      "\tCalinski Harabaz Score: 12.46\n",
      "\tDavies Bouldin Score: \t0.18\n",
      "\n",
      "4 Clusters\n"
     ]
    },
    {
     "ename": "LinAlgError",
     "evalue": "4-th leading minor of the array is not positive definite",
     "output_type": "error",
     "traceback": [
      "\u001b[0;31m---------------------------------------------------------------------------\u001b[0m",
      "\u001b[0;31mLinAlgError\u001b[0m                               Traceback (most recent call last)",
      "\u001b[0;32m<ipython-input-217-dd1ac47ff6c4>\u001b[0m in \u001b[0;36m<module>\u001b[0;34m()\u001b[0m\n\u001b[1;32m      5\u001b[0m     \u001b[0;32mfor\u001b[0m \u001b[0mi\u001b[0m \u001b[0;32min\u001b[0m \u001b[0mrange\u001b[0m\u001b[0;34m(\u001b[0m\u001b[0;36m2\u001b[0m\u001b[0;34m,\u001b[0m\u001b[0;36m6\u001b[0m\u001b[0;34m)\u001b[0m\u001b[0;34m:\u001b[0m\u001b[0;34m\u001b[0m\u001b[0m\n\u001b[1;32m      6\u001b[0m         \u001b[0mprint\u001b[0m\u001b[0;34m(\u001b[0m\u001b[0;34mf\"{i} Clusters\"\u001b[0m\u001b[0;34m)\u001b[0m\u001b[0;34m\u001b[0m\u001b[0m\n\u001b[0;32m----> 7\u001b[0;31m         \u001b[0mclust\u001b[0m\u001b[0;34m=\u001b[0m \u001b[0mSpectralClustering\u001b[0m\u001b[0;34m(\u001b[0m\u001b[0mn_clusters\u001b[0m\u001b[0;34m=\u001b[0m\u001b[0mi\u001b[0m\u001b[0;34m)\u001b[0m\u001b[0;34m.\u001b[0m\u001b[0mfit\u001b[0m\u001b[0;34m(\u001b[0m\u001b[0mX_n\u001b[0m\u001b[0;34m)\u001b[0m\u001b[0;34m\u001b[0m\u001b[0m\n\u001b[0m\u001b[1;32m      8\u001b[0m         \u001b[0mevaluate_clustering\u001b[0m\u001b[0;34m(\u001b[0m\u001b[0mX_n\u001b[0m\u001b[0;34m,\u001b[0m \u001b[0mclust\u001b[0m\u001b[0;34m.\u001b[0m\u001b[0mlabels_\u001b[0m\u001b[0;34m)\u001b[0m\u001b[0;34m\u001b[0m\u001b[0m\n\u001b[1;32m      9\u001b[0m         \u001b[0mprint\u001b[0m\u001b[0;34m(\u001b[0m\u001b[0;34m)\u001b[0m\u001b[0;34m\u001b[0m\u001b[0m\n",
      "\u001b[0;32m/usr/local/lib/python3.6/site-packages/sklearn/cluster/spectral.py\u001b[0m in \u001b[0;36mfit\u001b[0;34m(self, X, y)\u001b[0m\n\u001b[1;32m    491\u001b[0m                                            \u001b[0mn_init\u001b[0m\u001b[0;34m=\u001b[0m\u001b[0mself\u001b[0m\u001b[0;34m.\u001b[0m\u001b[0mn_init\u001b[0m\u001b[0;34m,\u001b[0m\u001b[0;34m\u001b[0m\u001b[0m\n\u001b[1;32m    492\u001b[0m                                            \u001b[0meigen_tol\u001b[0m\u001b[0;34m=\u001b[0m\u001b[0mself\u001b[0m\u001b[0;34m.\u001b[0m\u001b[0meigen_tol\u001b[0m\u001b[0;34m,\u001b[0m\u001b[0;34m\u001b[0m\u001b[0m\n\u001b[0;32m--> 493\u001b[0;31m                                            assign_labels=self.assign_labels)\n\u001b[0m\u001b[1;32m    494\u001b[0m         \u001b[0;32mreturn\u001b[0m \u001b[0mself\u001b[0m\u001b[0;34m\u001b[0m\u001b[0m\n\u001b[1;32m    495\u001b[0m \u001b[0;34m\u001b[0m\u001b[0m\n",
      "\u001b[0;32m/usr/local/lib/python3.6/site-packages/sklearn/cluster/spectral.py\u001b[0m in \u001b[0;36mspectral_clustering\u001b[0;34m(affinity, n_clusters, n_components, eigen_solver, random_state, n_init, eigen_tol, assign_labels)\u001b[0m\n\u001b[1;32m    262\u001b[0m                               \u001b[0meigen_solver\u001b[0m\u001b[0;34m=\u001b[0m\u001b[0meigen_solver\u001b[0m\u001b[0;34m,\u001b[0m\u001b[0;34m\u001b[0m\u001b[0m\n\u001b[1;32m    263\u001b[0m                               \u001b[0mrandom_state\u001b[0m\u001b[0;34m=\u001b[0m\u001b[0mrandom_state\u001b[0m\u001b[0;34m,\u001b[0m\u001b[0;34m\u001b[0m\u001b[0m\n\u001b[0;32m--> 264\u001b[0;31m                               eigen_tol=eigen_tol, drop_first=False)\n\u001b[0m\u001b[1;32m    265\u001b[0m \u001b[0;34m\u001b[0m\u001b[0m\n\u001b[1;32m    266\u001b[0m     \u001b[0;32mif\u001b[0m \u001b[0massign_labels\u001b[0m \u001b[0;34m==\u001b[0m \u001b[0;34m'kmeans'\u001b[0m\u001b[0;34m:\u001b[0m\u001b[0;34m\u001b[0m\u001b[0m\n",
      "\u001b[0;32m/usr/local/lib/python3.6/site-packages/sklearn/manifold/spectral_embedding_.py\u001b[0m in \u001b[0;36mspectral_embedding\u001b[0;34m(adjacency, n_components, eigen_solver, random_state, eigen_tol, norm_laplacian, drop_first)\u001b[0m\n\u001b[1;32m    324\u001b[0m             \u001b[0mX\u001b[0m\u001b[0;34m[\u001b[0m\u001b[0;34m:\u001b[0m\u001b[0;34m,\u001b[0m \u001b[0;36m0\u001b[0m\u001b[0;34m]\u001b[0m \u001b[0;34m=\u001b[0m \u001b[0mdd\u001b[0m\u001b[0;34m.\u001b[0m\u001b[0mravel\u001b[0m\u001b[0;34m(\u001b[0m\u001b[0;34m)\u001b[0m\u001b[0;34m\u001b[0m\u001b[0m\n\u001b[1;32m    325\u001b[0m             lambdas, diffusion_map = lobpcg(laplacian, X, tol=1e-15,\n\u001b[0;32m--> 326\u001b[0;31m                                             largest=False, maxiter=2000)\n\u001b[0m\u001b[1;32m    327\u001b[0m             \u001b[0membedding\u001b[0m \u001b[0;34m=\u001b[0m \u001b[0mdiffusion_map\u001b[0m\u001b[0;34m.\u001b[0m\u001b[0mT\u001b[0m\u001b[0;34m[\u001b[0m\u001b[0;34m:\u001b[0m\u001b[0mn_components\u001b[0m\u001b[0;34m]\u001b[0m\u001b[0;34m\u001b[0m\u001b[0m\n\u001b[1;32m    328\u001b[0m             \u001b[0;32mif\u001b[0m \u001b[0mnorm_laplacian\u001b[0m\u001b[0;34m:\u001b[0m\u001b[0;34m\u001b[0m\u001b[0m\n",
      "\u001b[0;32m/usr/local/lib/python3.6/site-packages/scipy/sparse/linalg/eigen/lobpcg/lobpcg.py\u001b[0m in \u001b[0;36mlobpcg\u001b[0;34m(A, X, B, M, Y, tol, maxiter, largest, verbosityLevel, retLambdaHistory, retResidualNormsHistory)\u001b[0m\n\u001b[1;32m    448\u001b[0m         \u001b[0;32mif\u001b[0m \u001b[0miterationNumber\u001b[0m \u001b[0;34m>\u001b[0m \u001b[0;36m0\u001b[0m\u001b[0;34m:\u001b[0m\u001b[0;34m\u001b[0m\u001b[0m\n\u001b[1;32m    449\u001b[0m             aux = _b_orthonormalize(B, activeBlockVectorP,\n\u001b[0;32m--> 450\u001b[0;31m                                     activeBlockVectorBP, retInvR=True)\n\u001b[0m\u001b[1;32m    451\u001b[0m             \u001b[0mactiveBlockVectorP\u001b[0m\u001b[0;34m,\u001b[0m \u001b[0mactiveBlockVectorBP\u001b[0m\u001b[0;34m,\u001b[0m \u001b[0minvR\u001b[0m \u001b[0;34m=\u001b[0m \u001b[0maux\u001b[0m\u001b[0;34m\u001b[0m\u001b[0m\n\u001b[1;32m    452\u001b[0m             \u001b[0mactiveBlockVectorAP\u001b[0m \u001b[0;34m=\u001b[0m \u001b[0mnp\u001b[0m\u001b[0;34m.\u001b[0m\u001b[0mdot\u001b[0m\u001b[0;34m(\u001b[0m\u001b[0mactiveBlockVectorAP\u001b[0m\u001b[0;34m,\u001b[0m \u001b[0minvR\u001b[0m\u001b[0;34m)\u001b[0m\u001b[0;34m\u001b[0m\u001b[0m\n",
      "\u001b[0;32m/usr/local/lib/python3.6/site-packages/scipy/sparse/linalg/eigen/lobpcg/lobpcg.py\u001b[0m in \u001b[0;36m_b_orthonormalize\u001b[0;34m(B, blockVectorV, blockVectorBV, retInvR)\u001b[0m\n\u001b[1;32m     94\u001b[0m             \u001b[0mblockVectorBV\u001b[0m \u001b[0;34m=\u001b[0m \u001b[0mblockVectorV\u001b[0m  \u001b[0;31m# Shared data!!!\u001b[0m\u001b[0;34m\u001b[0m\u001b[0m\n\u001b[1;32m     95\u001b[0m     \u001b[0mgramVBV\u001b[0m \u001b[0;34m=\u001b[0m \u001b[0mnp\u001b[0m\u001b[0;34m.\u001b[0m\u001b[0mdot\u001b[0m\u001b[0;34m(\u001b[0m\u001b[0mblockVectorV\u001b[0m\u001b[0;34m.\u001b[0m\u001b[0mT\u001b[0m\u001b[0;34m,\u001b[0m \u001b[0mblockVectorBV\u001b[0m\u001b[0;34m)\u001b[0m\u001b[0;34m\u001b[0m\u001b[0m\n\u001b[0;32m---> 96\u001b[0;31m     \u001b[0mgramVBV\u001b[0m \u001b[0;34m=\u001b[0m \u001b[0mcholesky\u001b[0m\u001b[0;34m(\u001b[0m\u001b[0mgramVBV\u001b[0m\u001b[0;34m)\u001b[0m\u001b[0;34m\u001b[0m\u001b[0m\n\u001b[0m\u001b[1;32m     97\u001b[0m     \u001b[0mgramVBV\u001b[0m \u001b[0;34m=\u001b[0m \u001b[0minv\u001b[0m\u001b[0;34m(\u001b[0m\u001b[0mgramVBV\u001b[0m\u001b[0;34m,\u001b[0m \u001b[0moverwrite_a\u001b[0m\u001b[0;34m=\u001b[0m\u001b[0;32mTrue\u001b[0m\u001b[0;34m)\u001b[0m\u001b[0;34m\u001b[0m\u001b[0m\n\u001b[1;32m     98\u001b[0m     \u001b[0;31m# gramVBV is now R^{-1}.\u001b[0m\u001b[0;34m\u001b[0m\u001b[0;34m\u001b[0m\u001b[0m\n",
      "\u001b[0;32m/usr/local/lib/python3.6/site-packages/scipy/linalg/decomp_cholesky.py\u001b[0m in \u001b[0;36mcholesky\u001b[0;34m(a, lower, overwrite_a, check_finite)\u001b[0m\n\u001b[1;32m     89\u001b[0m     \"\"\"\n\u001b[1;32m     90\u001b[0m     c, lower = _cholesky(a, lower=lower, overwrite_a=overwrite_a, clean=True,\n\u001b[0;32m---> 91\u001b[0;31m                          check_finite=check_finite)\n\u001b[0m\u001b[1;32m     92\u001b[0m     \u001b[0;32mreturn\u001b[0m \u001b[0mc\u001b[0m\u001b[0;34m\u001b[0m\u001b[0m\n\u001b[1;32m     93\u001b[0m \u001b[0;34m\u001b[0m\u001b[0m\n",
      "\u001b[0;32m/usr/local/lib/python3.6/site-packages/scipy/linalg/decomp_cholesky.py\u001b[0m in \u001b[0;36m_cholesky\u001b[0;34m(a, lower, overwrite_a, clean, check_finite)\u001b[0m\n\u001b[1;32m     38\u001b[0m     \u001b[0;32mif\u001b[0m \u001b[0minfo\u001b[0m \u001b[0;34m>\u001b[0m \u001b[0;36m0\u001b[0m\u001b[0;34m:\u001b[0m\u001b[0;34m\u001b[0m\u001b[0m\n\u001b[1;32m     39\u001b[0m         raise LinAlgError(\"%d-th leading minor of the array is not positive \"\n\u001b[0;32m---> 40\u001b[0;31m                           \"definite\" % info)\n\u001b[0m\u001b[1;32m     41\u001b[0m     \u001b[0;32mif\u001b[0m \u001b[0minfo\u001b[0m \u001b[0;34m<\u001b[0m \u001b[0;36m0\u001b[0m\u001b[0;34m:\u001b[0m\u001b[0;34m\u001b[0m\u001b[0m\n\u001b[1;32m     42\u001b[0m         raise ValueError('LAPACK reported an illegal value in {}-th argument'\n",
      "\u001b[0;31mLinAlgError\u001b[0m: 4-th leading minor of the array is not positive definite"
     ]
    }
   ],
   "source": [
    "# Play with n_feat\n",
    "for n in [10, 20, 50, 100, 200]:\n",
    "    print(f\"{n} Selected features\")\n",
    "    X_n = get_top_N_features(X_notime, n)\n",
    "    for i in range(2,6):\n",
    "        print(f\"{i} Clusters\")\n",
    "        clust= SpectralClustering(n_clusters=i).fit(X_n)\n",
    "        evaluate_clustering(X_n, clust.labels_)\n",
    "        print()\n",
    "    print()"
   ]
  },
  {
   "cell_type": "markdown",
   "metadata": {},
   "source": [
    "It seems that reducing the number of features considerably improves the clustering statistics. Let's visualize this."
   ]
  },
  {
   "cell_type": "code",
   "execution_count": 220,
   "metadata": {
    "scrolled": false
   },
   "outputs": [
    {
     "data": {
      "image/png": "[encoded data removed]",
      "text/plain": [
       "<matplotlib.figure.Figure at 0x122354b70>"
      ]
     },
     "metadata": {},
     "output_type": "display_data"
    }
   ],
   "source": [
    "X_n = get_top_N_features(X_notime, 20)\n",
    "plot_silhouette(X_n, SpectralClustering(n_clusters=3).fit(X_n).labels_)"
   ]
  },
  {
   "cell_type": "markdown",
   "metadata": {},
   "source": [
    "UNfortunately, this only represents a large cluster with 2 very small clusters."
   ]
  },
  {
   "cell_type": "markdown",
   "metadata": {},
   "source": [
    "## Affinity propagation"
   ]
  },
  {
   "cell_type": "code",
   "execution_count": 225,
   "metadata": {},
   "outputs": [
    {
     "name": "stdout",
     "output_type": "stream",
     "text": [
      "Clusters\n",
      "Damping: 0.5\n",
      "Clustering results:\n",
      "\tSilhouette Score: \t0.27\n",
      "\tCalinski Harabaz Score: 292.67\n",
      "\tDavies Bouldin Score: \t0.30\n",
      "\n",
      "Damping: 0.6\n",
      "Clustering results:\n",
      "\tSilhouette Score: \t0.27\n",
      "\tCalinski Harabaz Score: 292.67\n",
      "\tDavies Bouldin Score: \t0.30\n",
      "\n",
      "Damping: 0.8\n",
      "Clustering results:\n",
      "\tSilhouette Score: \t0.28\n",
      "\tCalinski Harabaz Score: 294.72\n",
      "\tDavies Bouldin Score: \t0.29\n",
      "\n",
      "Damping: 0.9\n",
      "Clustering results:\n",
      "\tSilhouette Score: \t0.27\n",
      "\tCalinski Harabaz Score: 282.36\n",
      "\tDavies Bouldin Score: \t0.29\n",
      "\n"
     ]
    }
   ],
   "source": [
    "####################\n",
    "# Affinity propagation\n",
    "####################\n",
    "# As a note, silhouette coeff and other metrics are not optimal for density based clustering methods.\n",
    "\n",
    "print(\"Clusters\")\n",
    "for damp in [0.5, 0.6, 0.8, 0.9]:\n",
    "    print(f\"Damping: {damp}\")\n",
    "    clust= AffinityPropagation(damping=damp).fit(X_notime)\n",
    "    evaluate_clustering(X_notime, clust.labels_)\n",
    "    print()"
   ]
  },
  {
   "cell_type": "code",
   "execution_count": 224,
   "metadata": {},
   "outputs": [
    {
     "name": "stdout",
     "output_type": "stream",
     "text": [
      "10 Selected features\n",
      "Clustering results:\n",
      "\tSilhouette Score: \t0.09\n",
      "\tCalinski Harabaz Score: 103.93\n",
      "\tDavies Bouldin Score: \t0.78\n",
      "\n",
      "20 Selected features\n",
      "Clustering results:\n",
      "\tSilhouette Score: \t0.42\n",
      "\tCalinski Harabaz Score: 264.95\n",
      "\tDavies Bouldin Score: \t0.36\n",
      "\n",
      "50 Selected features\n",
      "Clustering results:\n",
      "\tSilhouette Score: \t0.28\n",
      "\tCalinski Harabaz Score: 130.28\n",
      "\tDavies Bouldin Score: \t0.38\n",
      "\n",
      "100 Selected features\n",
      "Clustering results:\n",
      "\tSilhouette Score: \t0.28\n",
      "\tCalinski Harabaz Score: 141.32\n",
      "\tDavies Bouldin Score: \t0.37\n",
      "\n",
      "200 Selected features\n",
      "Clustering results:\n",
      "\tSilhouette Score: \t-0.06\n",
      "\tCalinski Harabaz Score: 78.73\n",
      "\tDavies Bouldin Score: \t0.88\n",
      "\n"
     ]
    }
   ],
   "source": [
    "# Play with n_feat\n",
    "for n in [10, 20, 50, 100, 200]:\n",
    "    print(f\"{n} Selected features\")\n",
    "    X_n = get_top_N_features(X_notime, n)\n",
    "    clust= AffinityPropagation().fit(X_n)\n",
    "    evaluate_clustering(X_n, clust.labels_)\n",
    "    print()"
   ]
  },
  {
   "cell_type": "code",
   "execution_count": 268,
   "metadata": {},
   "outputs": [
    {
     "data": {
      "image/png": "[encoded data removed]",
      "text/plain": [
       "<matplotlib.figure.Figure at 0x10e5a5e10>"
      ]
     },
     "metadata": {},
     "output_type": "display_data"
    }
   ],
   "source": [
    "X_n = get_top_N_features(X_notime, 20)\n",
    "plot_silhouette(X_n, AffinityPropagation(preference=-350).fit(X_n).labels_)"
   ]
  },
  {
   "cell_type": "code",
   "execution_count": 267,
   "metadata": {},
   "outputs": [
    {
     "data": {
      "text/plain": [
       "(array([0, 1, 2, 3, 4]), array([  5,  10, 399,  14,  10]))"
      ]
     },
     "execution_count": 267,
     "metadata": {},
     "output_type": "execute_result"
    }
   ],
   "source": [
    "np.unique(AffinityPropagation(preference=-350).fit(X_n).labels_, return_counts=True)"
   ]
  },
  {
   "cell_type": "code",
   "execution_count": null,
   "metadata": {},
   "outputs": [],
   "source": []
  }
 ],
 "metadata": {
  "kernelspec": {
   "display_name": "Python 3",
   "language": "python",
   "name": "python3"
  },
  "language_info": {
   "codemirror_mode": {
    "name": "ipython",
    "version": 3
   },
   "file_extension": ".py",
   "mimetype": "text/x-python",
   "name": "python",
   "nbconvert_exporter": "python",
   "pygments_lexer": "ipython3",
   "version": "3.6.5"
  }
 },
 "nbformat": 4,
 "nbformat_minor": 2
}
